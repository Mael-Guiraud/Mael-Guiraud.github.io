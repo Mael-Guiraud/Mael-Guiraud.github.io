{
 "cells": [
  {
   "attachments": {
    "logoei.png": {
     "image/png": "[encoded data removed]"
    }
   },
   "cell_type": "markdown",
   "id": "93c7de00",
   "metadata": {},
   "source": [
    "# <center>Recherche opérationelle: mini projet</center>\n",
    "\n",
    "![logoei.png](attachment:logoei.png)"
   ]
  },
  {
   "cell_type": "markdown",
   "id": "a5cf96ba",
   "metadata": {},
   "source": [
    "## Sujet :\n",
    "Une courageuse aventurière part en trek pendant une semaine. Elle n’emportera qu’un sac à dos avec elle. Ce sac à dos à une contenance de 70 Litres. Elle ne souhaite manquer de rien mais il lui sera impossible d’emporter tous les objets de sa liste. Elle a donc décider de les classer par importance, attribuant à chaque objet une note de 1 à 5. \n",
    "Vous disposez de la liste suivante des couples (note,volume) d’objets. "
   ]
  },
  {
   "cell_type": "code",
   "execution_count": 2,
   "id": "85f82f68",
   "metadata": {},
   "outputs": [],
   "source": [
    "liste = [(2, 5), (2, 6), (3, 8), (5, 5), (2, 8), (4, 2), (2, 5), (1, 2), (1, 7), (2, 4), (4, 9), (1, 7), (1, 2), (5, 6), (4, 6), (5, 10), (1, 9), (4, 6), (5, 6), (1, 4), (1, 7), (1, 10), (5, 9), (4, 5), (3, 4)]"
   ]
  },
  {
   "cell_type": "markdown",
   "id": "e619aeb2",
   "metadata": {},
   "source": [
    "### 1 : Complétez le programme linéaire suivant :</br>\n",
    "$k$ objets.</br>\n",
    "$C$: Capacité du sac.</br>\n",
    "$x_i$ : Variables de décision.</br>\n",
    "$v_i$ : Note de l'objet $i$.</br>\n",
    "$p_i$ : Volume de l'objet $i$.</br>\n",
    "$\\max? \\min?$(Supprimez le mauvais) $\\sum\\limits_{i=0}^k ???$</br>\n",
    "sc:</br>\n",
    "$\\sum\\limits_{i=0}^k ??? \\leq ?$</br>\n",
    "$x_i \\in {???}$</br>"
   ]
  },
  {
   "cell_type": "markdown",
   "id": "0c2c01f2",
   "metadata": {},
   "source": [
    "### 2. Complétez le code suivant afin de résoudre le problème:"
   ]
  },
  {
   "cell_type": "code",
   "execution_count": 1,
   "id": "3563a2cd",
   "metadata": {},
   "outputs": [
    {
     "ename": "SyntaxError",
     "evalue": "invalid syntax (Temp/ipykernel_29080/261820537.py, line 5)",
     "output_type": "error",
     "traceback": [
      "\u001b[1;36m  File \u001b[1;32m\"C:\\Users\\mguiraud\\AppData\\Local\\Temp/ipykernel_29080/261820537.py\"\u001b[1;36m, line \u001b[1;32m5\u001b[0m\n\u001b[1;33m    nb_obj = # A completer\u001b[0m\n\u001b[1;37m             ^\u001b[0m\n\u001b[1;31mSyntaxError\u001b[0m\u001b[1;31m:\u001b[0m invalid syntax\n"
     ]
    }
   ],
   "source": [
    "from pulp import *\n",
    "import random\n",
    "\n",
    "#Parametres\n",
    "nb_obj = # A completer\n",
    "C = # A completer\n",
    "\n",
    "prob = LpProblem(\"MonPB\", #A Completer\n",
    "                ) \n",
    "x = LpVariable.dicts('objects', #A Completer\n",
    "                             ,lowBound = #A Completer\n",
    "                             ,upBound = #A Completer\n",
    "                             ,cat = #A Completer\n",
    "                             )\n",
    "\n",
    "#Fonction economique\n",
    "prob += #A Completer\n",
    "#Contrainte\n",
    "prob += # A completer\n",
    "\n",
    "# Appel du solveur.\n",
    "prob.solve()\n",
    "\n",
    "\n",
    "print(\"Valeur: \" + str(value(prob.objective)))\n",
    "for i in range(nb_obj):\n",
    "    print(\"Objet\",i,\":\",x[i].value())"
   ]
  },
  {
   "cell_type": "code",
   "execution_count": null,
   "id": "8cafa3b1",
   "metadata": {},
   "outputs": [],
   "source": []
  }
 ],
 "metadata": {
  "kernelspec": {
   "display_name": "Python 3 (ipykernel)",
   "language": "python",
   "name": "python3"
  },
  "language_info": {
   "codemirror_mode": {
    "name": "ipython",
    "version": 3
   },
   "file_extension": ".py",
   "mimetype": "text/x-python",
   "name": "python",
   "nbconvert_exporter": "python",
   "pygments_lexer": "ipython3",
   "version": "3.9.7"
  }
 },
 "nbformat": 4,
 "nbformat_minor": 5
}
