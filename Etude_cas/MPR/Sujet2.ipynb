{
 "cells": [
  {
   "attachments": {
    "logoei.png": {
     "image/png": "[encoded data removed]"
    }
   },
   "cell_type": "markdown",
   "id": "c1e7313f",
   "metadata": {},
   "source": [
    "# <center>Recherche opérationelle: mini projet</center>\n",
    "\n",
    "![logoei.png](attachment:logoei.png)"
   ]
  },
  {
   "cell_type": "markdown",
   "id": "befc2a35",
   "metadata": {},
   "source": [
    "## Sujet :\n",
    "Un éleveur bovin a été sélectionné pour présenter son bétail au salon de l’agriculture. Il doit choisir ses meilleures bêtes pour être certain de faire forte impression. Il dispose d’un vieux camion et son garagiste lui conseille de ne charger que 40 tonnes à l’intérieur s’il souhaite arriver à Paris et pouvoir rentrer. Il décide donc de noter ses bêtes de 1 à 7, et d’emporter avec lui les bêtes qui auront ensemble la plus grande note. Vous trouverez ci desous la liste (note,poids) de chaque bête. Les poids sont donnés en kilogrammes."
   ]
  },
  {
   "cell_type": "code",
   "execution_count": 2,
   "id": "73ae190a",
   "metadata": {},
   "outputs": [],
   "source": [
    "liste = [(1, 1380), (1, 1088), (4, 939), (7, 1106), (2, 1185), (5, 895), (2, 1214), (4, 1306), (1, 1372), (6, 816), (7, 1188), (2, 739), (5, 1261), (4, 1005), (3, 1234), (2, 1295), (4, 1055), (7, 1300), (6, 1121), (7, 1240), (6, 846), (1, 1202), (6, 964), (7, 1245), (3, 1351), (2, 1318), (2, 800), (6, 1283), (7, 1262), (7, 865), (7, 826), (7, 1048), (2, 1230), (2, 1158), (7, 1380), (3, 1154), (1, 719), (2, 1207), (6, 778), (6, 1279), (6, 995), (3, 1202), (5, 987), (5, 917), (2, 801), (5, 1100), (2, 945), (6, 1027), (2, 1338), (1, 1280), (5, 1047), (2, 1041), (4, 1167), (6, 1235), (3, 1365), (4, 1135), (2, 735), (6, 1374), (4, 1346), (3, 789), (1, 1048), (4, 1371), (4, 894), (5, 1122), (5, 1297), (5, 885), (6, 770), (4, 730), (6, 977), (2, 1252), (4, 1375), (7, 1091), (4, 1161), (5, 1340), (4, 1210), (6, 1114), (6, 1392), (7, 728), (4, 1042), (5, 1386), (1, 1363), (4, 953), (3, 1150), (3, 1377), (2, 1130), (5, 854), (3, 1202), (1, 950), (7, 1262), (6, 979), (4, 1114), (3, 936), (6, 814), (4, 860), (3, 1196), (5, 862), (2, 1380), (1, 911), (5, 1108), (4, 1008), (7, 774), (7, 716), (2, 789), (5, 1263), (7, 861), (7, 1273), (1, 749), (4, 1090), (3, 786), (4, 792), (7, 963), (7, 987), (5, 1004), (7, 745), (5, 1125), (1, 884), (3, 1266), (2, 1155), (7, 1136), (6, 1308), (7, 1155), (6, 860), (4, 853), (5, 1386), (7, 1167), (6, 1061), (1, 761), (4, 1326), (5, 1002), (6, 1012), (1, 1312), (1, 1282), (6, 1178), (5, 761), (6, 716), (3, 759), (7, 1112), (4, 1022), (3, 1095), (4, 1381), (5, 979), (3, 1100), (3, 974), (7, 1137), (4, 765), (6, 1370), (4, 1251), (1, 797), (2, 883), (4, 1090)]"
   ]
  },
  {
   "cell_type": "markdown",
   "id": "665c5e12",
   "metadata": {},
   "source": [
    "### 1 : Complétez le programme linéaire suivant :</br>\n",
    "$k$ bêtes.</br>\n",
    "$C$: Capacité du camion.</br>\n",
    "$x_i$ : Variables de décision.</br>\n",
    "$v_i$ : Note de la bête $i$.</br>\n",
    "$p_i$ : Poids de la bête $i$.</br>\n",
    "$\\max? \\min?$(Supprimez le mauvais) $\\sum\\limits_{i=0}^k ???$</br>\n",
    "sc:</br>\n",
    "$\\sum\\limits_{i=0}^k ??? \\leq ?$</br>\n",
    "$x_i \\in {???}$</br>"
   ]
  },
  {
   "cell_type": "markdown",
   "id": "408930e5",
   "metadata": {},
   "source": [
    "### 2. Complétez le code suivant afin de résoudre le problème:"
   ]
  },
  {
   "cell_type": "code",
   "execution_count": 1,
   "id": "71459654",
   "metadata": {},
   "outputs": [
    {
     "ename": "SyntaxError",
     "evalue": "invalid syntax (Temp/ipykernel_32772/3700895360.py, line 5)",
     "output_type": "error",
     "traceback": [
      "\u001b[1;36m  File \u001b[1;32m\"C:\\Users\\mguiraud\\AppData\\Local\\Temp/ipykernel_32772/3700895360.py\"\u001b[1;36m, line \u001b[1;32m5\u001b[0m\n\u001b[1;33m    nb_obj = # A completer\u001b[0m\n\u001b[1;37m             ^\u001b[0m\n\u001b[1;31mSyntaxError\u001b[0m\u001b[1;31m:\u001b[0m invalid syntax\n"
     ]
    }
   ],
   "source": [
    "from pulp import *\n",
    "import random\n",
    "\n",
    "#Parametres\n",
    "nb_obj = # A completer\n",
    "C = # A completer\n",
    "\n",
    "prob = LpProblem(\"MonPb\", #A Completer\n",
    "                ) \n",
    "x = LpVariable.dicts('objects', #A Completer\n",
    "                             ,lowBound = #A Completer\n",
    "                             ,upBound = #A Completer\n",
    "                             ,cat = #A Completer\n",
    "                             )\n",
    "\n",
    "#Fonction economique\n",
    "prob += #A Completer\n",
    "#Contrainte\n",
    "prob += # A completer\n",
    "\n",
    "# Appel du solveur.\n",
    "prob.solve()\n",
    "\n",
    "\n",
    "print(\"Valeur: \" + str(value(prob.objective)))\n",
    "for i in range(nb_obj):\n",
    "    print(\"Bete\",i,\":\",x[i].value())"
   ]
  },
  {
   "cell_type": "code",
   "execution_count": null,
   "id": "9a0291a1",
   "metadata": {},
   "outputs": [],
   "source": []
  }
 ],
 "metadata": {
  "kernelspec": {
   "display_name": "Python 3 (ipykernel)",
   "language": "python",
   "name": "python3"
  },
  "language_info": {
   "codemirror_mode": {
    "name": "ipython",
    "version": 3
   },
   "file_extension": ".py",
   "mimetype": "text/x-python",
   "name": "python",
   "nbconvert_exporter": "python",
   "pygments_lexer": "ipython3",
   "version": "3.9.7"
  }
 },
 "nbformat": 4,
 "nbformat_minor": 5
}
