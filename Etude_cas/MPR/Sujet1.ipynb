{
 "cells": [
  {
   "attachments": {
    "logoei.png": {
     "image/png": "[encoded data removed]"
    }
   },
   "cell_type": "markdown",
   "id": "93c7de00",
   "metadata": {},
   "source": [
    "# <center>Recherche opérationelle: mini projet</center>\n",
    "\n",
    "![logoei.png](attachment:logoei.png)"
   ]
  },
  {
   "cell_type": "markdown",
   "id": "a5cf96ba",
   "metadata": {},
   "source": [
    "## Sujet :\n",
    "Un transporteur aérien doit envoyer un avion de marchandises de New-York à Paris. Les opérateurs veulent doivent choisir quelles palettes ils vont charger dans l’avion. On considère que les palettes sont tous de la même taille. Pour des raisons de sécurité l’avion ne peux emporter que 30 Tonnes. Etant donné que les palettes sont toutes très lourdes, on peut considérer que l’avion est suffisamment grand pour mettre toutes les palettes choisies, tant que l’on respecte la limite de poids.\n",
    "Voici la liste des couples (valeur, poids) des palettes. Les poids sont donnés en kilogrammes."
   ]
  },
  {
   "cell_type": "code",
   "execution_count": 2,
   "id": "85f82f68",
   "metadata": {},
   "outputs": [],
   "source": [
    "liste = [(23101, 736), (37261, 1290), (48121, 816), (42385, 1140), (44788, 709), (43274, 1152), (49775, 915), (9864, 1296), (18832, 1352), (14233, 759), (6060, 1378), (43237, 1314), (34657, 1166), (5235, 1162), (44752, 825), (24307, 1263), (33734, 1052), (16066, 795), (26166, 702), (25267, 1345), (49528, 989), (29199, 1301), (38094, 1170), (45017, 945), (44828, 1110), (48150, 872), (45268, 1061), (24993, 1321), (32773, 1296), (22825, 831), (29245, 1235), (31705, 1136), (19009, 1161), (32816, 924), (30061, 910), (24090, 750), (17181, 919), (39855, 1295), (21587, 1381), (40675, 838), (44019, 1384), (27326, 1313), (48454, 747), (11604, 1138), (33513, 1341), (29107, 1187), (28822, 977), (17604, 1033), (37989, 843), (16548, 1258), (22263, 1391), (41937, 1209), (29020, 787), (37798, 1281), (43908, 1139), (13493, 1186), (25712, 1117), (31005, 864), (42749, 1196), (33024, 1241), (49280, 1246), (40850, 921), (41695, 1279), (18521, 813), (34687, 874), (20765, 962), (39392, 1123), (38415, 1221), (49624, 779), (11100, 1065), (38307, 1189), (15133, 939), (30316, 876), (30023, 948), (30738, 1223), (7030, 835), (22274, 1134), (13197, 1212), (19697, 1221), (11317, 1319), (33971, 1113), (35911, 1054), (40454, 860), (30761, 1366), (45158, 777), (11779, 1329), (36399, 865), (26516, 894), (7031, 940), (41031, 1114), (13678, 1023), (44865, 766), (16978, 1186), (18803, 1383), (35689, 1076), (16793, 770), (37850, 1179), (6490, 1067), (24291, 1036), (20298, 719), (46536, 1380), (19284, 1337), (28868, 895), (9211, 779), (34447, 1349), (47072, 1085), (19627, 1286), (44996, 735), (29921, 954), (26561, 1297), (38800, 925), (10953, 1226), (11047, 1065), (5976, 1117), (14697, 1032), (23029, 1029), (5144, 1107), (28438, 1195), (36457, 994), (29193, 757), (42235, 856), (41925, 779), (10583, 986), (18673, 973), (6551, 1230), (30301, 1302), (26222, 1238), (38026, 790), (46737, 1236), (19316, 1021), (17866, 1337), (23047, 1090), (23444, 1214), (7125, 1379), (46794, 1037), (43843, 806), (18526, 1288), (33220, 867), (23882, 1264), (47517, 795), (31941, 886), (8419, 953), (14272, 982), (8073, 1272), (14543, 1016), (37926, 860), (43858, 816), (28812, 1386), (45435, 1017), (7665, 905)]"
   ]
  },
  {
   "cell_type": "markdown",
   "id": "e619aeb2",
   "metadata": {},
   "source": [
    "### 1 : Complétez le programme linéaire suivant :</br>\n",
    "$k$ palettes.</br>\n",
    "$C$: Capacité de l'avion.</br>\n",
    "$x_i$ : Variables de décision.</br>\n",
    "$v_i$ : Valeur de la palette $i$.</br>\n",
    "$p_i$ : Poids de la palette $i$.</br>\n",
    "$\\max? \\min?$(Supprimez le mauvais) $\\sum\\limits_{i=0}^k ???$</br>\n",
    "sc:</br>\n",
    "$\\sum\\limits_{i=0}^k ??? \\leq ?$</br>\n",
    "$x_i \\in {???}$</br>"
   ]
  },
  {
   "cell_type": "markdown",
   "id": "0c2c01f2",
   "metadata": {},
   "source": [
    "### 2. Complétez le code suivant afin de résoudre le problème:"
   ]
  },
  {
   "cell_type": "code",
   "execution_count": 1,
   "id": "3563a2cd",
   "metadata": {},
   "outputs": [
    {
     "ename": "SyntaxError",
     "evalue": "invalid syntax (Temp/ipykernel_20368/2841409279.py, line 5)",
     "output_type": "error",
     "traceback": [
      "\u001b[1;36m  File \u001b[1;32m\"C:\\Users\\mguiraud\\AppData\\Local\\Temp/ipykernel_20368/2841409279.py\"\u001b[1;36m, line \u001b[1;32m5\u001b[0m\n\u001b[1;33m    nb_obj = # A completer\u001b[0m\n\u001b[1;37m             ^\u001b[0m\n\u001b[1;31mSyntaxError\u001b[0m\u001b[1;31m:\u001b[0m invalid syntax\n"
     ]
    }
   ],
   "source": [
    "from pulp import *\n",
    "import random\n",
    "\n",
    "#Parametres\n",
    "nb_obj = # A completer\n",
    "C = # A completer\n",
    "\n",
    "prob = LpProblem(\"MonPB\", #A Completer\n",
    "                ) \n",
    "x = LpVariable.dicts('objects', #A Completer\n",
    "                             ,lowBound = #A Completer\n",
    "                             ,upBound = #A Completer\n",
    "                             ,cat = #A Completer\n",
    "                             )\n",
    "\n",
    "#Fonction economique\n",
    "prob += #A Completer\n",
    "#Contrainte\n",
    "prob += # A completer\n",
    "\n",
    "# Appel du solveur.\n",
    "prob.solve()\n",
    "\n",
    "\n",
    "print(\"Valeur: \" + str(value(prob.objective)))\n",
    "for i in range(nb_obj):\n",
    "    print(\"Palette\",i,\":\",x[i].value())"
   ]
  },
  {
   "cell_type": "code",
   "execution_count": null,
   "id": "8cafa3b1",
   "metadata": {},
   "outputs": [],
   "source": []
  }
 ],
 "metadata": {
  "kernelspec": {
   "display_name": "Python 3 (ipykernel)",
   "language": "python",
   "name": "python3"
  },
  "language_info": {
   "codemirror_mode": {
    "name": "ipython",
    "version": 3
   },
   "file_extension": ".py",
   "mimetype": "text/x-python",
   "name": "python",
   "nbconvert_exporter": "python",
   "pygments_lexer": "ipython3",
   "version": "3.9.7"
  }
 },
 "nbformat": 4,
 "nbformat_minor": 5
}
