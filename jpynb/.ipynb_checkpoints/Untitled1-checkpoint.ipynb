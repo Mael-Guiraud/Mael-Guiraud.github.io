{
 "cells": [
  {
   "cell_type": "code",
   "execution_count": 43,
   "id": "0b5a7385",
   "metadata": {},
   "outputs": [
    {
     "name": "stdout",
     "output_type": "stream",
     "text": [
      "[[87 85]\n",
      " [49 92]\n",
      " [ 9 14]\n",
      " [ 8 55]\n",
      " [83 82]\n",
      " [30 33]\n",
      " [64 40]\n",
      " [53  9]\n",
      " [28 21]\n",
      " [ 8 85]\n",
      " [98 37]\n",
      " [ 4 32]\n",
      " [18 98]\n",
      " [37 23]\n",
      " [78 89]\n",
      " [93 12]\n",
      " [ 9 41]\n",
      " [83  2]\n",
      " [24 36]\n",
      " [49  9]\n",
      " [21 56]\n",
      " [42 80]\n",
      " [94 35]\n",
      " [11 41]\n",
      " [33 79]\n",
      " [74 68]\n",
      " [15 47]\n",
      " [87  8]\n",
      " [46 87]\n",
      " [33 16]\n",
      " [92  7]\n",
      " [75 19]\n",
      " [55 99]\n",
      " [77 47]\n",
      " [74 21]\n",
      " [85 46]\n",
      " [ 4 28]\n",
      " [37 81]\n",
      " [29  3]\n",
      " [12 12]]\n"
     ]
    },
    {
     "data": {
      "text/plain": [
       "0.0"
      ]
     },
     "execution_count": 43,
     "metadata": {},
     "output_type": "execute_result"
    }
   ],
   "source": [
    "import numpy as np\n",
    "import networkx as nx\n",
    "import matplotlib.pyplot as plt\n",
    "\n",
    "def exists_in(l,e):\n",
    "    for i in l:\n",
    "        if i == e:\n",
    "            return True\n",
    "    return False\n",
    "\n",
    "l = []\n",
    "G = np.zeros((100,100))\n",
    "for i in range(40):\n",
    "    a = np.random.randint(0,100)\n",
    "    b = np.random.randint(0,100)\n",
    "    while(exists_in(l,[a,b])):\n",
    "        a = np.random.randint(0,100)\n",
    "        b = np.random.randint(0,100)\n",
    "    l.append([a,b])\n",
    "\n",
    "l = np.array(l)\n",
    "print(l)\n",
    "np.linalg.norm(l[0]-l[0])"
   ]
  },
  {
   "cell_type": "code",
   "execution_count": 45,
   "id": "43f437ae",
   "metadata": {},
   "outputs": [
    {
     "data": {
      "image/png": "[encoded data removed]",
      "text/plain": [
       "<Figure size 432x288 with 1 Axes>"
      ]
     },
     "metadata": {},
     "output_type": "display_data"
    }
   ],
   "source": [
    "\n",
    "import matplotlib.pyplot as plt\n",
    "import networkx as nx\n",
    "import numpy as np\n",
    "\n",
    "G = nx.from_numpy_matrix(np.matrix(A), create_using=nx.DiGraph)\n",
    "nx.draw(G)\n",
    "plt.show()"
   ]
  },
  {
   "cell_type": "code",
   "execution_count": null,
   "id": "7c56b406",
   "metadata": {},
   "outputs": [],
   "source": []
  },
  {
   "cell_type": "code",
   "execution_count": null,
   "id": "c260dd1a",
   "metadata": {},
   "outputs": [],
   "source": []
  }
 ],
 "metadata": {
  "kernelspec": {
   "display_name": "Python 3",
   "language": "python",
   "name": "python3"
  },
  "language_info": {
   "codemirror_mode": {
    "name": "ipython",
    "version": 3
   },
   "file_extension": ".py",
   "mimetype": "text/x-python",
   "name": "python",
   "nbconvert_exporter": "python",
   "pygments_lexer": "ipython3",
   "version": "3.8.8"
  }
 },
 "nbformat": 4,
 "nbformat_minor": 5
}
