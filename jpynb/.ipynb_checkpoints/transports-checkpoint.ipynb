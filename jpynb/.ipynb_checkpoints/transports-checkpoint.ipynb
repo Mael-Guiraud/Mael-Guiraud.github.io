{
 "cells": [
  {
   "cell_type": "markdown",
   "id": "7c81edc2",
   "metadata": {},
   "source": [
    "# Todo:\n",
    "-Prendre en compte le fait de pouvoir séparer les marchandises\n",
    "-Gérer plus de 10 marchandises dans la matrice d'instance"
   ]
  },
  {
   "cell_type": "markdown",
   "id": "a629f18d",
   "metadata": {},
   "source": [
    "La Classe \"Env\" Sert à gérer un environnement. \n",
    "Un environnement est caractérisé par un graphe, représenté par une matrice d'adjacence pondérée entre les différents sommets, et l'état des camions sur le graphe (nombre de marchandises transportées).\n",
    "\n",
    "La génération aléatoire d'un graphe se fait sur un espace euclidien. On génère $N$ noeuds d'un graphe complet, et le poids des arrêtes corresponds à la distance euclidienne entre les points.\n",
    "\n",
    "Pour mettre à jour l'environnement, on utilise la méthode ```Update_Env(self,origin,destination,size_Object):``` qui calcule le plus court chemin entre deux sommets pour une quantité de marchandise donnée.\n",
    "Lors du calcul du plus court chemin, si une arrête du graph contient un camion qui à la place pour la marchandise, on met le poids de cette arrête à 0.\n",
    "L'environnement est ensuite mis à jour avec le coût minimal (PCC)\n",
    "\n"
   ]
  },
  {
   "cell_type": "code",
   "execution_count": 1,
   "id": "60e191be",
   "metadata": {},
   "outputs": [],
   "source": [
    "import numpy as np\n",
    "from scipy.sparse import csr_matrix\n",
    "from scipy.sparse.csgraph import dijkstra, csgraph_from_masked\n",
    "\n",
    "import networkx as nx\n",
    "import matplotlib.pyplot as plt\n",
    "\n",
    "def exists_in(l,e):\n",
    "    for i in l:\n",
    "        if i == e:\n",
    "            return True\n",
    "    return False\n",
    "def random_graph(Grid,N):\n",
    "    l = []\n",
    "    G = np.zeros((Grid,Grid))\n",
    "    for i in range(N):\n",
    "        a = np.random.randint(0,Grid)\n",
    "        b = np.random.randint(0,Grid)\n",
    "        while(exists_in(l,[a,b])):\n",
    "            a = np.random.randint(0,Grid)\n",
    "            b = np.random.randint(0,Grid)\n",
    "        l.append([a,b])\n",
    "    l = np.array(l)\n",
    "    \n",
    "    G = np.zeros((N,N))\n",
    "    for i in range(N):\n",
    "        for j in range(N):\n",
    "            G[i][j] = np.linalg.norm(l[i]-l[j])\n",
    "    return G\n",
    "\n",
    "\n",
    "\n",
    "class Env:\n",
    "   \n",
    "    def __init__(self, N=10,size_Trucks=10,cpy=0):\n",
    "        self.N = N\n",
    "        self.size_Trucks = size_Trucks\n",
    "        if(cpy):\n",
    "            self.matrix = None \n",
    "            self.trucks = None\n",
    "        else:\n",
    "            self.matrix = random_graph(N*2,N)\n",
    "            self.trucks = np.zeros((N,N))\n",
    "        #self.matrix = np.tril(self.matrix) + np.tril(self.matrix, -1).T\n",
    "        #self.matrix = np.tril(self.matrix,-1) + np.triu(self.matrix,1)\n",
    "        \n",
    "        self.cost = 0\n",
    "\n",
    "    def cpy(self):\n",
    "        new = Env(self.N,self.size_Trucks,cpy=1)\n",
    "        new.matrix = np.copy(self.matrix)\n",
    "        new.trucks = np.copy(self.trucks)\n",
    "        return new\n",
    "        \n",
    "    def Price(self):\n",
    "        return np.sum(self.matrix * self.trucks%self.size_Trucks)\n",
    "    def available(self):\n",
    "        G= self.trucks%self.size_Trucks \n",
    "        return (self.size_Trucks - G) %self.size_Trucks\n",
    "    \n",
    "    def compute_path(self,number):\n",
    "        G = self.matrix.copy()\n",
    "        G_masked = np.ma.masked_values(G, 0)\n",
    "        G_masked[self.available()>= number] = 0\n",
    "        return G_masked\n",
    "    \n",
    "    def Cheapest_path(self,origin,destination,size_Object):\n",
    "        G = self.compute_path(size_Object)\n",
    "        graph = csgraph_from_masked(G)\n",
    "        dist_matrix, predecessors = dijkstra(csgraph=graph, directed=False, indices=origin, return_predecessors=True)\n",
    "        if(predecessors[destination]== origin):\n",
    "            l = [origin,destination]\n",
    "        else:\n",
    "            l = [origin,predecessors[destination]]\n",
    "            while(predecessors[l[-1]] != origin):\n",
    "                l.append(predecessors[l[-1]])\n",
    "            l.append(destination)\n",
    "        return dist_matrix[destination],l\n",
    "    \n",
    "    def Update_Env(self,origin,destination,size_Object):\n",
    "        new_truck = self.Cheapest_path(origin,destination,size_Object)\n",
    "        predecessors = new_truck[1]\n",
    "        i=0\n",
    "        G_avail = self.available()\n",
    "        while(predecessors[i+1]!=destination):\n",
    "            if(G_avail[predecessors[i]][predecessors[i+1]] < size_Object):\n",
    "                self.cost += self.matrix[predecessors[i]][predecessors[i+1]]\n",
    "            self.trucks[predecessors[i]][predecessors[i+1]] += size_Object\n",
    "            self.trucks[predecessors[i+1]][predecessors[i]] += size_Object\n",
    "            i+=1\n",
    "        if(G_avail[predecessors[i]][predecessors[i+1]] < size_Object):\n",
    "            self.cost += self.matrix[predecessors[i]][predecessors[i+1]]\n",
    "        self.trucks[predecessors[i]][predecessors[i+1]] += size_Object\n",
    "        self.trucks[predecessors[i+1]][predecessors[i]] += size_Object\n",
    "        return\n",
    "    def get_cost(self):\n",
    "        return self.cost\n",
    "    def get_N(self):\n",
    "        return self.N"
   ]
  },
  {
   "cell_type": "markdown",
   "id": "8d7c5de4",
   "metadata": {},
   "source": [
    "\n",
    "La classe instance à pour but de gérer l'intégralité d'une instance, de la création à la résolution:\n",
    "\n",
    "On génère d'abbord une matrice de taille $N\\times N$ d'entiers contenant le nombre de marchandises à entreposer d'un entrepôt à un autre (c'est à dire un sommet du graphe à un autre). \n",
    "On crée ensuite un environement, et on calcul le coût nécéssaire pour gérer toutes les marchandises.\n",
    "Plusieurs politiques peuvent être essayées :\n",
    "-On vide d'abbord l'entrepôt le plus chargé.\n",
    "-On vide d'abbord l'entrepôt le moins chargé.\n",
    "-On commence par les marchandises les plus petites.\n",
    "-On commence par les marchandises les plus grosses.\n",
    "\n",
    "Plus difficile, pour aller plus loin, non géré par ce code:\n",
    "-On essaye de calculer l'impact qu'aura une marchandise sur les autres, et on prends la marchandise qui minimise cette valeur."
   ]
  },
  {
   "cell_type": "code",
   "execution_count": 36,
   "id": "5dcec7c4",
   "metadata": {},
   "outputs": [],
   "source": [
    "\n",
    "\n",
    "class Instance:\n",
    "   \n",
    "    def __init__(self, env,objects):\n",
    "        self.env = env.cpy()\n",
    "        self.objects = objects\n",
    "        np.fill_diagonal(self.objects,0)\n",
    "    \n",
    "    def gen_bigger_bigger(self):\n",
    "        for i in range(self.env.N):\n",
    "            origin = self.objects.sum(axis=1).argmax()\n",
    "            sumn = self.objects[origin].sum()\n",
    "            while(sumn > 0):\n",
    "                destination = self.objects[origin].argmax()\n",
    "                yield origin, destination\n",
    "                sumn -= self.objects[origin][destination]\n",
    "                self.objects[origin][destination] = 0\n",
    "                \n",
    "    def gen_bigger_object(self):\n",
    "        sumn = self.objects.sum()\n",
    "        while(sumn > 0):\n",
    "            origin = self.objects.argmax()//env.get_N()\n",
    "            destination = self.objects.argmax()%env.get_N()\n",
    "            yield origin, destination\n",
    "            sumn -= self.objects[origin][destination]\n",
    "            self.objects[origin][destination] = 0\n",
    "    def gen_random(self):\n",
    "        T = np.nonzero(self.objects)\n",
    "        X = np.arange(0,T[0].size)\n",
    "        np.random.shuffle(X)\n",
    "        for i in range(T[0].size):\n",
    "            yield T[0][X[i]],T[1][X[i]]\n",
    "        \n",
    "    def solve(self,mode=0):\n",
    "        if mode == 0:\n",
    "            gen= self.gen_bigger_bigger()\n",
    "        if mode == 1:\n",
    "            gen = self.gen_bigger_object()\n",
    "        if mode == 2:\n",
    "            gen = self.gen_random()\n",
    "        for origin, destination in gen:\n",
    "            self.env.Update_Env(origin,destination,self.objects[origin][destination])\n",
    "        print(self.env.get_cost())"
   ]
  },
  {
   "cell_type": "code",
   "execution_count": 35,
   "id": "7111d6fb",
   "metadata": {},
   "outputs": [
    {
     "name": "stdout",
     "output_type": "stream",
     "text": [
      "[[0 5 3 5]\n",
      " [5 0 9 5]\n",
      " [4 9 0 2]\n",
      " [5 0 0 0]]\n",
      "1 2\n",
      "2 0\n",
      "1 0\n",
      "1 3\n",
      "2 1\n",
      "0 2\n",
      "0 3\n",
      "0 1\n",
      "2 3\n",
      "3 0\n"
     ]
    }
   ],
   "source": [
    "env = Env(4,10)\n",
    "obj = np.random.randint(0,10,[env.get_N(),env.get_N()])\n",
    "ins= Instance(env,obj)\n",
    "print(obj)\n",
    "for i ,j in ins.gen_random():\n",
    "    print(i,j)"
   ]
  },
  {
   "cell_type": "code",
   "execution_count": null,
   "id": "9808429f",
   "metadata": {},
   "outputs": [],
   "source": []
  },
  {
   "cell_type": "code",
   "execution_count": 41,
   "id": "43eb9c1f",
   "metadata": {},
   "outputs": [
    {
     "name": "stdout",
     "output_type": "stream",
     "text": [
      "752.092183929177\n",
      "779.1515724378878\n",
      "642.9236424151874\n"
     ]
    }
   ],
   "source": [
    "for i in range(1):\n",
    "    env = Env(10,10)\n",
    "    obj = np.random.randint(0,10,[env.get_N(),env.get_N()])\n",
    "    inst = Instance(env,obj.copy())\n",
    "    inst2 = Instance(env,obj.copy())\n",
    "    inst3 = Instance(env,obj.copy())\n",
    "    inst3.solve(2)\n",
    "    inst.solve(0)\n",
    "    inst2.solve(1)"
   ]
  },
  {
   "cell_type": "code",
   "execution_count": 451,
   "id": "dfa9bec7",
   "metadata": {},
   "outputs": [
    {
     "name": "stdout",
     "output_type": "stream",
     "text": [
      "[[0 0 0 0 0]\n",
      " [0 0 0 0 0]\n",
      " [0 0 0 0 0]\n",
      " [0 0 0 0 0]\n",
      " [0 0 0 0 0]] 0 0\n"
     ]
    }
   ],
   "source": [
    "inst.objects[0][2]=0\n",
    "print(inst.objects,inst.objects.argmax()//env.get_N(),inst.objects.argmax()%env.get_N())"
   ]
  },
  {
   "cell_type": "code",
   "execution_count": 283,
   "id": "4682d6ab",
   "metadata": {},
   "outputs": [
    {
     "data": {
      "text/plain": [
       "(0, 0, 1, 2)"
      ]
     },
     "execution_count": 283,
     "metadata": {},
     "output_type": "execute_result"
    }
   ],
   "source": [
    "\n",
    "b=test(1,2)\n",
    "a=test(cpy=0)\n",
    "a.a,a.b,b.a,b.b"
   ]
  },
  {
   "cell_type": "code",
   "execution_count": null,
   "id": "4d0a8870",
   "metadata": {},
   "outputs": [],
   "source": []
  },
  {
   "cell_type": "code",
   "execution_count": null,
   "id": "0a3759ee",
   "metadata": {},
   "outputs": [],
   "source": []
  },
  {
   "cell_type": "code",
   "execution_count": 61,
   "id": "6d68af3d",
   "metadata": {},
   "outputs": [
    {
     "data": {
      "image/png": "[encoded data removed]",
      "text/plain": [
       "<Figure size 432x288 with 1 Axes>"
      ]
     },
     "metadata": {},
     "output_type": "display_data"
    }
   ],
   "source": [
    "G = nx.from_numpy_matrix(x.matrix)\n",
    "pos=nx.spring_layout(G)\n",
    "nx.draw_networkx(G,pos)\n",
    "labels = nx.get_edge_attributes(G,'weight')\n",
    "nx.draw_networkx_edge_labels(G,pos,edge_labels=labels)\n",
    "#nx.draw(G)\n",
    "\n",
    "plt.show()"
   ]
  },
  {
   "cell_type": "code",
   "execution_count": null,
   "id": "e6c765e3",
   "metadata": {},
   "outputs": [],
   "source": []
  }
 ],
 "metadata": {
  "kernelspec": {
   "display_name": "Python 3 (ipykernel)",
   "language": "python",
   "name": "python3"
  },
  "language_info": {
   "codemirror_mode": {
    "name": "ipython",
    "version": 3
   },
   "file_extension": ".py",
   "mimetype": "text/x-python",
   "name": "python",
   "nbconvert_exporter": "python",
   "pygments_lexer": "ipython3",
   "version": "3.8.12"
  }
 },
 "nbformat": 4,
 "nbformat_minor": 5
}
