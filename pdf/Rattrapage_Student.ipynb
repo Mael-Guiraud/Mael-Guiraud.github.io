{
  "cells": [
    {
      "cell_type": "markdown",
      "metadata": {
        "id": "MO7fnBK8ToyY"
      },
      "source": [
        "#  Étude de Cas : Planification de pièces à usiner sur des machines de production\n",
        " Dans ce notebook, nous allons résoudre un problème d'optimisation de l'assignation de pièces à usiner sur des machines de production dans une usine en utilisant **la programmation linéaire (PL)** et une **heuristique gloutonne (LPT - Longest Processing Time First)**.\n",
        " ##  Objectif\n",
        " - Minimiser le **temps total d'usiange** des pieces (makespan).\n",
        " - Comparer la **PL** avec une **heuristique simple**."
      ]
    },
    {
      "cell_type": "markdown",
      "metadata": {
        "id": "xg2Z-KczToyZ"
      },
      "source": [
        "##  1. Définition du Problème\n",
        " Nous avons un ensemble de **Pièces** qui doivent être usinées sur un ensemble de **Machines**.\n",
        " - Chaque **pièce a un temps d'exécution**.\n",
        " - Chaque **machine a une vitesse de traitement**.\n",
        " - Une pièce ne peut être exécutée que sur **une seule machine**.\n",
        " - L'objectif est de **minimiser le temps total d'exécution**.\n",
        "\n",
        " ### 1.1. Modèle PL\n",
        " Ci-dessous, completez le modèle PL pour ce problème.\n",
        "\n",
        " - **Variables de décision** :\n",
        "   - $x_{ij} = 1$ si la pièce $i$ est assignée à la machine $j$, sinon $0$.\n",
        "   - $C_{max}$ est le makespan (temps d'exécution total à minimiser).\n",
        "\n",
        " - **Fonction objectif** :\n",
        "    > A COMPLETER\n",
        "\n",
        " - **Contraintes** :\n",
        "   1. Chaque pièce est usinée exactement **une seule fois** :\n",
        "    > A COMPLETER\n",
        "   \n",
        "   2. Le makespan doit être supérieur ou égal au **temps d'usinage total** sur chaque machine (Aide: Le temps d'exécution total sur la machine $j$ est égal à la somme des temps d'exécution des tâches assignées à $j$ divisée par la **vitesse de traitement** de $j$) :\n",
        "    > A COMPLETER\n",
        "   \n",
        "   Où $T_i$ est la durée de la pièce $i$ et $S_j$ la vitesse de la machine $j$.\n",
        "   ### 1.2. Implémentation\n",
        "\n",
        "   Complétez le code suivant:"
      ]
    },
    {
      "cell_type": "code",
      "execution_count": null,
      "metadata": {
        "id": "DQHrjpdMToyZ"
      },
      "outputs": [],
      "source": [
        "!pip install pulp\n",
        "import numpy as np\n",
        "import pulp\n",
        "\n",
        "# Définition des tâches et machines\n",
        "pieces = [10, 20, 30, 40, 50]  # Temps d'usinage des pièces\n",
        "machines = [1.0, 1.5, 2.0]  # Puissances des machines (usinage plus rapide si valeur plus grande)\n",
        "\n",
        "def LP(pieces,machines):\n",
        "  num_pieces = len(pieces)\n",
        "  num_machines = len(machines)\n",
        "\n",
        "  # Création du modèle PL\n",
        "  model = pulp.LpProblem(\"Cluster_Scheduling\", \"\"\"A COMPLETER\"\"\")\n",
        "\n",
        "  # Variables de décision\n",
        "  x = pulp.LpVariable.dicts(\"x\", [(i, j) for i in range(\"\"\"A COMPLETER\"\"\") for j in range(\"\"\"A COMPLETER\"\"\")], cat=\"\"\"A COMPLETER\"\"\")\n",
        "  Cmax = pulp.LpVariable(\"Cmax\", lowBound=0, cat=\"\"\"A COMPLETER\"\"\")  # Temps d'usinage max\n",
        "\n",
        "  # Fonction Objectif : Minimiser le makespan\n",
        "  model += Cmax\n",
        "\n",
        "  # Contrainte : Chaque pièces doit être affectée à une seule machine\n",
        "  for i in range(num_pieces):\n",
        "      model += \"\"\"A COMPLETER\"\"\"\n",
        "\n",
        "  # Contrainte : Calculer le makespan (temps max sur toutes les machines)\n",
        "  for j in range(num_machines):\n",
        "      model += pulp.lpSum(\"\"\"A COMPLETER\"\"\" * (pieces[i] / machines[j]) for i in range(\"\"\"A COMPLETER\"\"\")) <= \"\"\"A COMPLETER\"\"\"\n",
        "\n",
        "  # Résolution\n",
        "  model.solve()\n",
        "  return Cmax,x\n",
        "# Résultats\n",
        "Cmax,x = LP(pieces,machines)\n",
        "print(\"\\n🔹 Solution Optimale (PL) :\")\n",
        "print(f\"Makespan Min : {pulp.value(Cmax)}\")\n",
        "for i in range(len(pieces)):\n",
        "    for j in range(len(machines)):\n",
        "        if pulp.value(x[(i, j)]) == 1:\n",
        "            print(f\"Pièce {i+1} assignée à Machine {j+1}\")"
      ]
    },
    {
      "cell_type": "markdown",
      "metadata": {
        "id": "T_rsZvA9Toya"
      },
      "source": [
        "##  2. Heuristique Gloutonne : Longest Processing Time (LPT)\n",
        " LPT est une méthode simple qui **affecte d'abord les pièces les plus longues à usiner aux machines les moins chargées**.\n",
        "\n",
        " **Comment fonctionne LPT ?**\n",
        " 1. Trier les pièces **par ordre décroissant** de durée d'usinage.\n",
        " 2. Affecter chaque pièces à **la machine la moins chargée**.\n",
        " 3. Mettre à jour la charge de la machine et continuer.\n",
        "\n",
        " Le code de LPT vous est fourni ci dessous, ainsi qu'un exemple d'execution sur la même instance que le programme linéaire précédent."
      ]
    },
    {
      "cell_type": "code",
      "execution_count": null,
      "metadata": {
        "id": "U2d4ggHAToya"
      },
      "outputs": [],
      "source": [
        "# Implémentation de l'heuristique LPT\n",
        "def LPT(pieces,machines):\n",
        "  pieces_order = sorted(enumerate(pieces), key=lambda x: x[1], reverse=True)  # Trier par durée décroissante\n",
        "  machine_loads = [0] * len(machines)  # Charge actuelle des machines\n",
        "  assignment = {}  # Stocke l'affectation des pièces\n",
        "\n",
        "  for i, duration in pieces_order:\n",
        "      best_machine = np.argmin(machine_loads)  # Trouver la machine la moins chargée\n",
        "      machine_loads[best_machine] += duration / machines[best_machine]\n",
        "      assignment[i] = best_machine\n",
        "  return machine_loads,assignment\n",
        "\n",
        "machine_loads, assignment = LPT(pieces,machines)\n",
        "\n",
        "# Résultats de l'heuristique\n",
        "print(\"\\n🔹 Solution Heuristique (LPT) :\")\n",
        "print(f\"Makespan Estimé : {max(machine_loads)}\")\n",
        "for i in range(len(pieces)):\n",
        "    print(f\"Pièce {i+1} assignée à Machine {assignment[i]+1}\")"
      ]
    },
    {
      "cell_type": "markdown",
      "metadata": {
        "id": "Okn5ZVJ9UeLD"
      },
      "source": [
        "##  3. Évaluation des performances\n",
        " Nous voulons comparer les différentes approches en terme de **temps d'usinage** et de **qualité de la solution**.\n",
        "\n",
        " Complétez le code ci dessous qui compare les deux approches sur l'instance donnée.\n"
      ]
    },
    {
      "cell_type": "code",
      "execution_count": null,
      "metadata": {
        "id": "nRkRlSdnToyb"
      },
      "outputs": [],
      "source": [
        "import time\n",
        "\n",
        "# Définition des pièces et machines\n",
        "pieces = [10, 20, 30, 40, 50]  # Temps d'usinage des pièces\n",
        "machines = [1.0, 1.5, 2.0]  # Puissances des machines (usinage plus rapide si valeur plus grande)\n",
        "\n",
        "# Mesurer le temps d'usinage du PL\n",
        "start_time = time.time()\n",
        "Cmax,_ = \"\"\"A COMPLETER\"\"\"\n",
        "pl_time = time.time() - start_time\n",
        "\n",
        "# Mesurer le temps d'usinage de LPT\n",
        "start_time = time.time()\n",
        "machine_loads,_ = \"\"\"A COMPLETER\"\"\"\n",
        "lpt_time = \"\"\"A COMPLETER\"\"\"\n",
        "\n",
        "# Comparaison qualité de solution\n",
        "pl_makespan = pulp.value(Cmax)\n",
        "lpt_makespan = max(machine_loads)\n",
        "\n",
        "print(\"\\n🔹 Évaluation des performances :\")\n",
        "print(f\"Temps d'usinage PL : {pl_time:.4f} sec\")\n",
        "print(f\"Temps d'usinage LPT : {lpt_time:.4f} sec\")\n",
        "print(f\"Makespan PL : {pl_makespan}\")\n",
        "print(f\"Makespan LPT : {lpt_makespan}\")\n",
        "print(f\"Qualité de solution LPT vs PL : {100 * lpt_makespan / pl_makespan:.2f}%\")"
      ]
    },
    {
      "cell_type": "markdown",
      "metadata": {
        "id": "1PixBj_yXKJY"
      },
      "source": [
        "Il parait évident que pour cette petite instance, le programme linéaire donne une solution bien meilleure que LPT. Mais est-ce toujours le cas ?\n",
        " Complétez la cellule ci dessous pour tester sur un grand nombre d'instances:"
      ]
    },
    {
      "cell_type": "code",
      "execution_count": null,
      "metadata": {
        "id": "FWSn9hJxXb0U"
      },
      "outputs": [],
      "source": [
        "import time\n",
        "import random\n",
        "nb_instances = 100\n",
        "\n",
        "exec_time_LP = 0\n",
        "exec_time_LPT = 0\n",
        "value_LP = 0\n",
        "value_LPT = 0\n",
        "\n",
        "for _ in range(\"\"\"A COMPLETER\"\"\"):\n",
        "\n",
        "  # Définition des pièces et machines\n",
        "  pieces = [random.randint(1,8)*10 for _ in range(8)]\n",
        "  machines = [random.uniform(1, 3) for _ in range(3)]  # Puissances des machines (usinage plus rapide si valeur plus grande)\n",
        "\n",
        "  # Mesurer le temps d'exécution du PL\n",
        "  start_time = time.time()\n",
        "  Cmax,_ = \"\"\"A COMPLETER\"\"\"\n",
        "  value_LP += pulp.value(Cmax)\n",
        "  exec_time_LP += time.time() - start_time\n",
        "  # Mesurer le temps d'exécution de LPT\n",
        "  start_time = time.time()\n",
        "  machine_loads,_ = \"\"\"A COMPLETER\"\"\"\n",
        "  value_LPT += max(machine_loads)\n",
        "  exec_time_LPT += time.time() - start_time\n",
        "\n",
        "\n",
        "print(\"\\n🔹 Évaluation des performances :\")\n",
        "print(f\"Temps d'usinage moyen PL : {exec_time_LP/nb_instances:.4f} sec\")\n",
        "print(f\"Temps d'usinage moyen LPT : {exec_time_LPT/nb_instances:.4f} sec\")\n",
        "print(f\"Makespan moyen PL : {value_LP/nb_instances}\")\n",
        "print(f\"Makespan moyen LPT : {value_LPT/nb_instances}\")\n",
        "print(f\"Qualité de solution LPT vs PL : {100 * value_LPT / value_LP:.2f}%\")"
      ]
    },
    {
      "cell_type": "markdown",
      "metadata": {
        "id": "OXtLAN9gZfVR"
      },
      "source": [
        "**Quel algorithme semble meilleur en terme de valeur de solution?**\n",
        "\n",
        "> A COMPLETER\n",
        "\n",
        " **Et de temps de calcul ?**\n",
        "> A COMPLETER\n",
        "\n",
        " **Pouvez vous donner le nombre de pieces a partir de laquelle il n'est plus envisageable d'utiliser LP (i.e. une instance met plus de 1 seconde à calculer)?**      \n",
        "> A COMPLETER\n",
        "\n",
        "**Dans ce cas (où nous avons de grandes instances), comment pouvons nous utiliser la programation linéaire pour avoir une indication sur la qualité de la solution ? Complétez le code ci dessous en conséquence**\n",
        " > A COMPLETER"
      ]
    },
    {
      "cell_type": "code",
      "execution_count": 8,
      "metadata": {
        "id": "OiD0xVpD51AE"
      },
      "outputs": [],
      "source": [
        "def Mystery_fct(pieces,machines):\n",
        "  num_pieces = len(pieces)\n",
        "  num_machines = len(machines)\n",
        "\n",
        "  # Création du modèle PL\n",
        "  model = pulp.LpProblem(\"Cluster_Scheduling\", pulp.LpMinimize)\n",
        "\n",
        "  # Variables de décision\n",
        "  x = \"\"\"A COMPLETER\"\"\"\n",
        "  Cmax = pulp.LpVariable(\"Cmax\", lowBound=0, cat=pulp.LpContinuous)  # Temps d'exécution max\n",
        "\n",
        "  # Fonction Objectif : Minimiser le makespan\n",
        "  model += Cmax\n",
        "\n",
        "  # Contrainte : Chaque pièces doit être affectée à une seule machine\n",
        "  for i in range(num_pieces):\n",
        "      model += pulp.lpSum(x[(i, j)] for j in range(num_machines)) == 1\n",
        "\n",
        "  # Contrainte : Calculer le makespan (temps max sur toutes les machines)\n",
        "  for j in range(num_machines):\n",
        "      model += pulp.lpSum(x[(i, j)] * (pieces[i] / machines[j]) for i in range(num_pieces)) <= Cmax\n",
        "  # Résolution\n",
        "  model.solve()\n",
        "  return Cmax,x"
      ]
    },
    {
      "cell_type": "markdown",
      "metadata": {
        "id": "s-JZFKp651TL"
      },
      "source": [
        "\n",
        " Completez alors le code ci dessous, qui trace la valeur moyenne de la solution de LPT comparé au résultat de la fonction précédente pour un nombre de tâches croissants. Vous pouvez bien entendu changer le nom des variables \"mystery\" et les labels \"mystère\" par le nom de la mesure."
      ]
    },
    {
      "cell_type": "code",
      "execution_count": null,
      "metadata": {
        "id": "PdZJHocz5cxS"
      },
      "outputs": [],
      "source": [
        "import matplotlib.pyplot as plt\n",
        "import random\n",
        "\n",
        "nb_pieces_max = 40\n",
        "nb_instances = 100\n",
        "\n",
        "list_value_LPT = []\n",
        "list_mystery = []\n",
        "for i in range(5,nb_pieces_max,5):\n",
        "  mystery = 0\n",
        "  value_LPT = 0\n",
        "  for _ in range(nb_instances):\n",
        "\n",
        "    # Définition des pièces et machines\n",
        "    pieces = [random.randint(1,8)*10 for _ in range(i)]\n",
        "    machines = [random.uniform(1, 3) for _ in range(3)]  # Puissances des machines (usinage plus rapide si valeur plus grande)\n",
        "\n",
        "    #Calcul de la valeur de LPT et de la valeur mystère\n",
        "    Cmax,_ = \"\"\"A COMPLETER\"\"\"\n",
        "    mystery += pulp.value(Cmax)\n",
        "    machine_loads,_ = \"\"\"A COMPLETER\"\"\"\n",
        "    value_LPT += max(machine_loads)\n",
        "\n",
        "  list_value_LPT.append(\"\"\"A COMPLETER\"\"\")\n",
        "  list_mystery.append(\"\"\"A COMPLETER\"\"\")\n",
        "\n",
        "#Tracé de la courbe\n",
        "x= list(range(5,nb_pieces_max,5))\n",
        "plt.figure()\n",
        "plt.plot(x,list_value_LPT,label=\"LPT\")\n",
        "plt.plot(x,list_mystery,label=\"Mystère\")\n",
        "plt.legend()\n",
        "plt.xlabel(\"Nombre de pièces\")\n",
        "plt.ylabel(\"Valeur de la solution\")\n",
        "plt.show()\n"
      ]
    }
  ],
  "metadata": {
    "colab": {
      "provenance": []
    },
    "kernelspec": {
      "display_name": "Python 3",
      "language": "python",
      "name": "python3"
    },
    "language_info": {
      "codemirror_mode": {
        "name": "ipython",
        "version": 3
      },
      "file_extension": ".py",
      "mimetype": "text/x-python",
      "name": "python",
      "nbconvert_exporter": "python",
      "pygments_lexer": "ipython3",
      "version": "3.8.10"
    }
  },
  "nbformat": 4,
  "nbformat_minor": 0
}
