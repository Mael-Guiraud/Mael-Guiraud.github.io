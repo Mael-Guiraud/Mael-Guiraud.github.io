{
 "cells": [
  {
   "cell_type": "code",
   "execution_count": 2,
   "id": "60e191be",
   "metadata": {
    "slideshow": {
     "slide_type": "slide"
    }
   },
   "outputs": [],
   "source": [
    "import numpy as np\n",
    "from scipy.sparse import csr_matrix\n",
    "from scipy.sparse.csgraph import dijkstra\n",
    "class Env:\n",
    "   \n",
    "    def __init__(self, N,size_Trucks):\n",
    "        self.N = N\n",
    "        self.size_Trucks = size_Trucks\n",
    "        self.matrix = np.random.randint(1,70,(N,N))\n",
    "        self.matrix = np.tril(self.matrix) + np.tril(self.matrix, -1).T\n",
    "        self.matrix = np.tril(self.matrix,-1) + np.triu(self.matrix,1)\n",
    "        self.trucks = np.zeros((N,N))\n",
    "        \n",
    "    def Price(self):\n",
    "        return np.sum(self.matrix * self.trucks%self.size_Trucks)\n",
    "    def Cheapest_path(self,origin,destination):\n",
    "        return\n",
    "    "
   ]
  },
  {
   "cell_type": "code",
   "execution_count": 12,
   "id": "43eb9c1f",
   "metadata": {
    "slideshow": {
     "slide_type": "slide"
    }
   },
   "outputs": [
    {
     "name": "stdout",
     "output_type": "stream",
     "text": [
      "[[ 0 19 69 52]\n",
      " [19  0 55  4]\n",
      " [69 55  0 61]\n",
      " [52  4 61  0]]\n",
      "  (1, 0)\t19\n",
      "  (2, 0)\t69\n",
      "  (2, 1)\t55\n",
      "  (3, 0)\t52\n",
      "  (3, 1)\t4\n",
      "  (3, 2)\t61\n"
     ]
    },
    {
     "data": {
      "text/plain": [
       "<networkx.classes.graph.Graph at 0x7faebace0c70>"
      ]
     },
     "execution_count": 12,
     "metadata": {},
     "output_type": "execute_result"
    },
    {
     "data": {
      "image/png": "[encoded data removed]",
      "text/plain": [
       "<Figure size 288x288 with 1 Axes>"
      ]
     },
     "metadata": {
      "needs_background": "light"
     },
     "output_type": "display_data"
    }
   ],
   "source": [
    "x = Env(4,10)\n",
    "print(x.matrix)\n",
    "graph = csr_matrix(np.tril(x.matrix))\n",
    "print(graph)\n",
    "import networkx\n",
    "import matplotlib.pyplot as plt\n",
    "fix, ax = plt.subplots(1, 1,figsize=(4,4))\n",
    "G = networkx.from_numpy_matrix(x.matrix)\n",
    "G"
   ]
  },
  {
   "cell_type": "code",
   "execution_count": 95,
   "id": "4682d6ab",
   "metadata": {
    "slideshow": {
     "slide_type": "slide"
    }
   },
   "outputs": [
    {
     "data": {
      "text/plain": [
       "array([ 0., 31., 27., 33.])"
      ]
     },
     "execution_count": 95,
     "metadata": {},
     "output_type": "execute_result"
    }
   ],
   "source": [
    "dist_matrix, predecessors = dijkstra(csgraph=graph, directed=False, indices=0, return_predecessors=True)\n",
    "dist_matrix"
   ]
  },
  {
   "cell_type": "code",
   "execution_count": 83,
   "id": "4d0a8870",
   "metadata": {
    "slideshow": {
     "slide_type": "slide"
    }
   },
   "outputs": [
    {
     "data": {
      "text/plain": [
       "array([[-9999,     0,     0,     0],\n",
       "       [    1, -9999,     1,     1],\n",
       "       [    2,     2, -9999,     2],\n",
       "       [    3,     3,     3, -9999]])"
      ]
     },
     "execution_count": 83,
     "metadata": {},
     "output_type": "execute_result"
    }
   ],
   "source": [
    "predecessors"
   ]
  },
  {
   "cell_type": "code",
   "execution_count": null,
   "id": "0a3759ee",
   "metadata": {
    "slideshow": {
     "slide_type": "slide"
    }
   },
   "outputs": [],
   "source": []
  },
  {
   "cell_type": "code",
   "execution_count": null,
   "id": "6d68af3d",
   "metadata": {
    "slideshow": {
     "slide_type": "slide"
    }
   },
   "outputs": [],
   "source": []
  }
 ],
 "metadata": {
  "celltoolbar": "Diaporama",
  "kernelspec": {
   "display_name": "Python 3",
   "language": "python",
   "name": "python3"
  },
  "language_info": {
   "codemirror_mode": {
    "name": "ipython",
    "version": 3
   },
   "file_extension": ".py",
   "mimetype": "text/x-python",
   "name": "python",
   "nbconvert_exporter": "python",
   "pygments_lexer": "ipython3",
   "version": "3.8.8"
  }
 },
 "nbformat": 4,
 "nbformat_minor": 5
}
