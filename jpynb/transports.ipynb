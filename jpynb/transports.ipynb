{
 "cells": [
  {
   "cell_type": "markdown",
   "id": "7c81edc2",
   "metadata": {},
   "source": [
    "# Todo:\n",
    "-Prendre en compte le fait de pouvoir séparer les marchandises\n",
    "-Gérer plus de 10 marchandises dans la matrice d'instance"
   ]
  },
  {
   "cell_type": "markdown",
   "id": "a629f18d",
   "metadata": {},
   "source": [
    "La Classe \"Env\" Sert à gérer un environnement. \n",
    "Un environnement est caractérisé par un graphe, représenté par une matrice d'adjacence pondérée entre les différents sommets, et l'état des camions sur le graphe (nombre de marchandises transportées).\n",
    "\n",
    "La génération aléatoire d'un graphe se fait sur un espace euclidien. On génère $N$ noeuds d'un graphe complet, et le poids des arrêtes corresponds à la distance euclidienne entre les points.\n",
    "\n",
    "Pour mettre à jour l'environnement, on utilise la méthode ```Update_Env(self,origin,destination,size_Object):``` qui calcule le plus court chemin entre deux sommets pour une quantité de marchandise donnée.\n",
    "Lors du calcul du plus court chemin, si une arrête du graph contient un camion qui à la place pour la marchandise, on met le poids de cette arrête à 0.\n",
    "L'environnement est ensuite mis à jour avec le coût minimal (PCC)\n",
    "\n"
   ]
  },
  {
   "cell_type": "code",
   "execution_count": 43,
   "id": "60e191be",
   "metadata": {},
   "outputs": [],
   "source": [
    "import numpy as np\n",
    "from scipy.sparse import csr_matrix\n",
    "from scipy.sparse.csgraph import dijkstra, csgraph_from_masked\n",
    "\n",
    "import networkx as nx\n",
    "import matplotlib.pyplot as plt\n",
    "\n",
    "def exists_in(l,e):\n",
    "    for i in l:\n",
    "        if i == e:\n",
    "            return True\n",
    "    return False\n",
    "def random_graph(Grid,N):\n",
    "    l = []\n",
    "    G = np.zeros((Grid,Grid))\n",
    "    for i in range(N):\n",
    "        a = np.random.randint(0,Grid)\n",
    "        b = np.random.randint(0,Grid)\n",
    "        while(exists_in(l,[a,b])):\n",
    "            a = np.random.randint(0,Grid)\n",
    "            b = np.random.randint(0,Grid)\n",
    "        l.append([a,b])\n",
    "    l = np.array(l)\n",
    "    \n",
    "    G = np.zeros((N,N))\n",
    "    for i in range(N):\n",
    "        for j in range(N):\n",
    "            G[i][j] = np.linalg.norm(l[i]-l[j])\n",
    "    return G\n",
    "\n",
    "\n",
    "\n",
    "class Env:\n",
    "   \n",
    "    def __init__(self, N=10,size_Trucks=10,cpy=0):\n",
    "        self.N = N\n",
    "        self.size_Trucks = size_Trucks\n",
    "        if(cpy):\n",
    "            self.matrix = None \n",
    "            self.trucks = None\n",
    "        else:\n",
    "            self.matrix = random_graph(N*2,N)\n",
    "            self.trucks = np.zeros((N,N))\n",
    "        #self.matrix = np.tril(self.matrix) + np.tril(self.matrix, -1).T\n",
    "        #self.matrix = np.tril(self.matrix,-1) + np.triu(self.matrix,1)\n",
    "        \n",
    "        self.cost = 0\n",
    "\n",
    "    def cpy(self):\n",
    "        new = Env(self.N,self.size_Trucks,cpy=1)\n",
    "        new.matrix = np.copy(self.matrix)\n",
    "        new.trucks = np.copy(self.trucks)\n",
    "        return new\n",
    "        \n",
    "    def Price(self):\n",
    "        return np.sum(self.matrix * self.trucks%self.size_Trucks)\n",
    "    def available(self):\n",
    "        G= self.trucks%self.size_Trucks \n",
    "        return (self.size_Trucks - G) %self.size_Trucks\n",
    "    \n",
    "    def compute_path(self,number):\n",
    "        G = self.matrix.copy()\n",
    "        G_masked = np.ma.masked_values(G, 0)\n",
    "        G_masked[self.available()>= number] = 0\n",
    "        return G_masked\n",
    "    \n",
    "    def Cheapest_path(self,origin,destination,size_Object):\n",
    "        G = self.compute_path(size_Object)\n",
    "        graph = csgraph_from_masked(G)\n",
    "        dist_matrix, predecessors = dijkstra(csgraph=graph, directed=False, indices=origin, return_predecessors=True)\n",
    "        if(predecessors[destination]== origin):\n",
    "            l = [origin,destination]\n",
    "        else:\n",
    "            l = [origin,predecessors[destination]]\n",
    "            while(predecessors[l[-1]] != origin):\n",
    "                l.append(predecessors[l[-1]])\n",
    "            l.append(destination)\n",
    "        return dist_matrix[destination],l\n",
    "    \n",
    "    def Update_Env(self,origin,destination,size_Object):\n",
    "        new_truck = self.Cheapest_path(origin,destination,size_Object)\n",
    "        predecessors = new_truck[1]\n",
    "        i=0\n",
    "        G_avail = self.available()\n",
    "        while(predecessors[i+1]!=destination):\n",
    "            if(G_avail[predecessors[i]][predecessors[i+1]] < size_Object):\n",
    "                self.cost += self.matrix[predecessors[i]][predecessors[i+1]]\n",
    "            self.trucks[predecessors[i]][predecessors[i+1]] += size_Object\n",
    "            self.trucks[predecessors[i+1]][predecessors[i]] += size_Object\n",
    "            i+=1\n",
    "        if(G_avail[predecessors[i]][predecessors[i+1]] < size_Object):\n",
    "            self.cost += self.matrix[predecessors[i]][predecessors[i+1]]\n",
    "        self.trucks[predecessors[i]][predecessors[i+1]] += size_Object\n",
    "        self.trucks[predecessors[i+1]][predecessors[i]] += size_Object\n",
    "        return\n",
    "    def get_cost(self):\n",
    "        return self.cost\n",
    "    def get_N(self):\n",
    "        return self.N"
   ]
  },
  {
   "cell_type": "markdown",
   "id": "8d7c5de4",
   "metadata": {},
   "source": [
    "\n",
    "La classe instance à pour but de gérer l'intégralité d'une instance, de la création à la résolution:\n",
    "\n",
    "On génère d'abbord une matrice de taille $N\\times N$ d'entiers contenant le nombre de marchandises à entreposer d'un entrepôt à un autre (c'est à dire un sommet du graphe à un autre). \n",
    "On crée ensuite un environement, et on calcul le coût nécéssaire pour gérer toutes les marchandises.\n",
    "Plusieurs politiques peuvent être essayées :\n",
    "-On vide d'abbord l'entrepôt le plus chargé.\n",
    "-On vide d'abbord l'entrepôt le moins chargé.\n",
    "-On commence par les marchandises les plus petites.\n",
    "-On commence par les marchandises les plus grosses.\n",
    "\n",
    "Plus difficile, pour aller plus loin, non géré par ce code:\n",
    "-On essaye de calculer l'impact qu'aura une marchandise sur les autres, et on prends la marchandise qui minimise cette valeur."
   ]
  },
  {
   "cell_type": "code",
   "execution_count": 44,
   "id": "5dcec7c4",
   "metadata": {},
   "outputs": [],
   "source": [
    "\n",
    "\n",
    "class Instance:\n",
    "   \n",
    "    def __init__(self, env,objects):\n",
    "        self.env = env.cpy()\n",
    "        self.objects = objects\n",
    "        np.fill_diagonal(self.objects,0)\n",
    "    \n",
    "    def gen_bigger_bigger(self):\n",
    "        for i in range(self.env.N):\n",
    "            origin = self.objects.sum(axis=1).argmax()\n",
    "            sumn = self.objects[origin].sum()\n",
    "            while(sumn > 0):\n",
    "                destination = self.objects[origin].argmax()\n",
    "                yield origin, destination\n",
    "                sumn -= self.objects[origin][destination]\n",
    "                self.objects[origin][destination] = 0\n",
    "                \n",
    "    def gen_bigger_object(self):\n",
    "        sumn = self.objects.sum()\n",
    "        while(sumn > 0):\n",
    "            origin = self.objects.argmax()//env.get_N()\n",
    "            destination = self.objects.argmax()%env.get_N()\n",
    "            yield origin, destination\n",
    "            sumn -= self.objects[origin][destination]\n",
    "            self.objects[origin][destination] = 0\n",
    "    def gen_random(self):\n",
    "        T = np.nonzero(self.objects)\n",
    "        X = np.arange(0,T[0].size)\n",
    "        np.random.shuffle(X)\n",
    "        for i in range(T[0].size):\n",
    "            yield T[0][X[i]],T[1][X[i]]\n",
    "        \n",
    "    def solve(self,mode=0):\n",
    "        if mode == 0:\n",
    "            gen= self.gen_bigger_bigger()\n",
    "        if mode == 1:\n",
    "            gen = self.gen_bigger_object()\n",
    "        if mode == 2:\n",
    "            gen = self.gen_random()\n",
    "        for origin, destination in gen:\n",
    "            self.env.Update_Env(origin,destination,self.objects[origin][destination])"
   ]
  },
  {
   "cell_type": "code",
   "execution_count": 45,
   "id": "dfa0ba2d",
   "metadata": {},
   "outputs": [
    {
     "name": "stdout",
     "output_type": "stream",
     "text": [
      "[[0 9 0 5]\n",
      " [1 0 8 0]\n",
      " [3 8 0 8]\n",
      " [1 9 5 0]]\n",
      "3 2\n",
      "3 1\n",
      "3 0\n",
      "2 1\n",
      "0 3\n",
      "1 2\n",
      "2 0\n",
      "1 0\n",
      "2 3\n",
      "0 1\n"
     ]
    }
   ],
   "source": [
    "env = Env(4,10)\n",
    "obj = np.random.randint(0,10,[env.get_N(),env.get_N()])\n",
    "ins= Instance(env,obj)\n",
    "print(obj)\n",
    "for i ,j in ins.gen_random():\n",
    "    print(i,j)"
   ]
  },
  {
   "cell_type": "code",
   "execution_count": 60,
   "id": "46f81d79",
   "metadata": {},
   "outputs": [
    {
     "name": "stdout",
     "output_type": "stream",
     "text": [
      "10\n",
      "100\n",
      "1000\n"
     ]
    }
   ],
   "source": [
    "for i in (10,100,1000):\n",
    "    print(i)"
   ]
  },
  {
   "cell_type": "code",
   "execution_count": 66,
   "id": "43eb9c1f",
   "metadata": {},
   "outputs": [
    {
     "name": "stdout",
     "output_type": "stream",
     "text": [
      "49 entrepots  99 /100\r"
     ]
    }
   ],
   "source": [
    "import statistics as st\n",
    "x1 = []\n",
    "x2 = []\n",
    "x3 = []\n",
    "\n",
    "for j in range(10,50):\n",
    "    l = []\n",
    "    l2 = []\n",
    "    l3 = []\n",
    "    for i in range(100):\n",
    "        env = Env(j,100)\n",
    "        obj = np.random.randint(0,100,[env.get_N(),env.get_N()])\n",
    "        inst = Instance(env,obj.copy())\n",
    "        inst2 = Instance(env,obj.copy())\n",
    "        inst3 = Instance(env,obj.copy())\n",
    "        inst3.solve(2)\n",
    "        inst.solve(0)\n",
    "        inst2.solve(1)\n",
    "        l.append(inst.env.get_cost())\n",
    "        l2.append(inst2.env.get_cost())\n",
    "        l3.append(inst3.env.get_cost())\n",
    "        print(j,\"entrepots \",i,\"/100\", end =\"\\r\")\n",
    "    x1.append(st.mean(l))\n",
    "    x2.append(st.mean(l2))\n",
    "    x3.append(st.mean(l3))"
   ]
  },
  {
   "cell_type": "code",
   "execution_count": 68,
   "id": "00084f40",
   "metadata": {},
   "outputs": [
    {
     "data": {
      "text/plain": [
       "[779.2715033134272,\n",
       " 1076.9389318741778,\n",
       " 1414.4694033860803,\n",
       " 1846.3286488753035,\n",
       " 2355.4449639532813,\n",
       " 2867.246312529477,\n",
       " 3457.37398723009,\n",
       " 4321.178289970307,\n",
       " 5369.111191627115,\n",
       " 6445.808040794356,\n",
       " 7603.4683889204625,\n",
       " 8833.200194158764,\n",
       " 10106.39965838773,\n",
       " 11452.923136519008,\n",
       " 13236.361244450196,\n",
       " 14901.108130288996,\n",
       " 16866.534931879312,\n",
       " 18799.888946065556,\n",
       " 21437.823429282504,\n",
       " 23939.850098339975,\n",
       " 26559.900215064154,\n",
       " 29707.53479800864,\n",
       " 32630.104990011183,\n",
       " 36543.203817842485,\n",
       " 42083.804178425205,\n",
       " 45649.6054863289,\n",
       " 49021.649926012906,\n",
       " 53301.13351743814,\n",
       " 57613.850425481316,\n",
       " 61831.02948982832,\n",
       " 67773.47431605107,\n",
       " 73152.20912771681,\n",
       " 77780.08142902359,\n",
       " 82382.31389718794,\n",
       " 90526.03213385715,\n",
       " 96327.23220156011,\n",
       " 102924.11547738008,\n",
       " 110493.46269959667,\n",
       " 117477.51550834907,\n",
       " 124458.90700543138]"
      ]
     },
     "execution_count": 68,
     "metadata": {},
     "output_type": "execute_result"
    }
   ],
   "source": [
    "x1"
   ]
  },
  {
   "cell_type": "code",
   "execution_count": 69,
   "id": "dfa9bec7",
   "metadata": {},
   "outputs": [
    {
     "data": {
      "text/plain": [
       "<matplotlib.legend.Legend at 0x1cad3aa82e0>"
      ]
     },
     "execution_count": 69,
     "metadata": {},
     "output_type": "execute_result"
    },
    {
     "data": {
      "image/png": "[encoded data removed]",
      "text/plain": [
       "<Figure size 432x288 with 1 Axes>"
      ]
     },
     "metadata": {
      "needs_background": "light"
     },
     "output_type": "display_data"
    }
   ],
   "source": [
    "\n",
    "plt.plot(x2,label=\"Plus gros objet en premier\")\n",
    "\n",
    "plt.plot(x3,label=\"choix aléatoire\")\n",
    "\n",
    "plt.plot(x1,label=\"Plus gos entrepot/objet en premier\")\n",
    "plt.xlabel(\"Nombre d'entrepôts\")\n",
    "plt.ylabel(\"Cost\")\n",
    "plt.legend()"
   ]
  },
  {
   "cell_type": "code",
   "execution_count": 283,
   "id": "4682d6ab",
   "metadata": {},
   "outputs": [
    {
     "data": {
      "text/plain": [
       "(0, 0, 1, 2)"
      ]
     },
     "execution_count": 283,
     "metadata": {},
     "output_type": "execute_result"
    }
   ],
   "source": [
    "\n",
    "b=test(1,2)\n",
    "a=test(cpy=0)\n",
    "a.a,a.b,b.a,b.b"
   ]
  },
  {
   "cell_type": "code",
   "execution_count": null,
   "id": "4d0a8870",
   "metadata": {},
   "outputs": [],
   "source": []
  },
  {
   "cell_type": "code",
   "execution_count": null,
   "id": "0a3759ee",
   "metadata": {},
   "outputs": [],
   "source": []
  },
  {
   "cell_type": "code",
   "execution_count": 61,
   "id": "6d68af3d",
   "metadata": {},
   "outputs": [
    {
     "data": {
      "image/png": "[encoded data removed]",
      "text/plain": [
       "<Figure size 432x288 with 1 Axes>"
      ]
     },
     "metadata": {},
     "output_type": "display_data"
    }
   ],
   "source": [
    "G = nx.from_numpy_matrix(x.matrix)\n",
    "pos=nx.spring_layout(G)\n",
    "nx.draw_networkx(G,pos)\n",
    "labels = nx.get_edge_attributes(G,'weight')\n",
    "nx.draw_networkx_edge_labels(G,pos,edge_labels=labels)\n",
    "#nx.draw(G)\n",
    "\n",
    "plt.show()"
   ]
  },
  {
   "cell_type": "code",
   "execution_count": null,
   "id": "e6c765e3",
   "metadata": {},
   "outputs": [],
   "source": []
  }
 ],
 "metadata": {
  "kernelspec": {
   "display_name": "Python 3 (ipykernel)",
   "language": "python",
   "name": "python3"
  },
  "language_info": {
   "codemirror_mode": {
    "name": "ipython",
    "version": 3
   },
   "file_extension": ".py",
   "mimetype": "text/x-python",
   "name": "python",
   "nbconvert_exporter": "python",
   "pygments_lexer": "ipython3",
   "version": "3.8.12"
  }
 },
 "nbformat": 4,
 "nbformat_minor": 5
}
